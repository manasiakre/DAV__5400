{
 "cells": [
  {
   "cell_type": "markdown",
   "metadata": {},
   "source": [
    "# DAV 5400 Project 4\n",
    "\n",
    "**Manasi Akre, Maojudan Nihemaiti, Humayra Kausar**"
   ]
  },
  {
   "cell_type": "markdown",
   "metadata": {},
   "source": [
    "# Introduction\n",
    "\n",
    "A mushroom or toadstool is the fleshy, spore-bearing fruiting body of a fungus, typically produced above ground, on soil, or on its food source. Currently, there are over 14,000 species of mushrooms, which is suspected to be only a fraction of the actual numbers. While eating mushrooms is popular all over the world, many are not fit for this purpose. About 20% of these mushrooms are harmful, and eating them can make one sick, and about 1% of them can kill you. Unfortunately, differentiating between edible and poisonous mushrooms is difficult since there are no specific features that can tell the two apart.\n",
    "\n",
    "However, this can be solved with the help of machine learning, which can use data to find whether a mushroom is edible or poisonous. In this project, we will be using the UCI Mushroom Data Set. The source of the dataset can be found [here](https://archive.ics.uci.edu/ml/datasets/mushroom). We'll begin by importing and formatting the data and running some exploratory analysis on it before constructing a predictive model using scikit-learn library."
   ]
  },
  {
   "cell_type": "code",
   "execution_count": 12,
   "metadata": {},
   "outputs": [],
   "source": [
    "# Import pandas\n",
    "import pandas as pd\n",
    "\n",
    "# Import numpy\n",
    "import numpy as np\n",
    "\n",
    "# Import Seirs and DataFrame\n",
    "from pandas import Series, DataFrame\n",
    "\n",
    "# load the pyplot function from the matplotlib library\n",
    "import matplotlib.pyplot as plt\n",
    "\n",
    "# Import seaborn \n",
    "import seaborn as sns\n",
    "\n",
    "# Import sklearn \n",
    "from sklearn.linear_model import LogisticRegression\n",
    "from sklearn import metrics\n",
    "from sklearn.model_selection import train_test_split"
   ]
  },
  {
   "cell_type": "code",
   "execution_count": 13,
   "metadata": {},
   "outputs": [
    {
     "data": {
      "text/html": [
       "<div>\n",
       "<style scoped>\n",
       "    .dataframe tbody tr th:only-of-type {\n",
       "        vertical-align: middle;\n",
       "    }\n",
       "\n",
       "    .dataframe tbody tr th {\n",
       "        vertical-align: top;\n",
       "    }\n",
       "\n",
       "    .dataframe thead th {\n",
       "        text-align: right;\n",
       "    }\n",
       "</style>\n",
       "<table border=\"1\" class=\"dataframe\">\n",
       "  <thead>\n",
       "    <tr style=\"text-align: right;\">\n",
       "      <th></th>\n",
       "      <th>0</th>\n",
       "      <th>1</th>\n",
       "      <th>2</th>\n",
       "      <th>3</th>\n",
       "      <th>4</th>\n",
       "      <th>5</th>\n",
       "      <th>6</th>\n",
       "      <th>7</th>\n",
       "      <th>8</th>\n",
       "      <th>9</th>\n",
       "      <th>...</th>\n",
       "      <th>13</th>\n",
       "      <th>14</th>\n",
       "      <th>15</th>\n",
       "      <th>16</th>\n",
       "      <th>17</th>\n",
       "      <th>18</th>\n",
       "      <th>19</th>\n",
       "      <th>20</th>\n",
       "      <th>21</th>\n",
       "      <th>22</th>\n",
       "    </tr>\n",
       "  </thead>\n",
       "  <tbody>\n",
       "    <tr>\n",
       "      <th>0</th>\n",
       "      <td>p</td>\n",
       "      <td>x</td>\n",
       "      <td>s</td>\n",
       "      <td>n</td>\n",
       "      <td>t</td>\n",
       "      <td>p</td>\n",
       "      <td>f</td>\n",
       "      <td>c</td>\n",
       "      <td>n</td>\n",
       "      <td>k</td>\n",
       "      <td>...</td>\n",
       "      <td>s</td>\n",
       "      <td>w</td>\n",
       "      <td>w</td>\n",
       "      <td>p</td>\n",
       "      <td>w</td>\n",
       "      <td>o</td>\n",
       "      <td>p</td>\n",
       "      <td>k</td>\n",
       "      <td>s</td>\n",
       "      <td>u</td>\n",
       "    </tr>\n",
       "    <tr>\n",
       "      <th>1</th>\n",
       "      <td>e</td>\n",
       "      <td>x</td>\n",
       "      <td>s</td>\n",
       "      <td>y</td>\n",
       "      <td>t</td>\n",
       "      <td>a</td>\n",
       "      <td>f</td>\n",
       "      <td>c</td>\n",
       "      <td>b</td>\n",
       "      <td>k</td>\n",
       "      <td>...</td>\n",
       "      <td>s</td>\n",
       "      <td>w</td>\n",
       "      <td>w</td>\n",
       "      <td>p</td>\n",
       "      <td>w</td>\n",
       "      <td>o</td>\n",
       "      <td>p</td>\n",
       "      <td>n</td>\n",
       "      <td>n</td>\n",
       "      <td>g</td>\n",
       "    </tr>\n",
       "    <tr>\n",
       "      <th>2</th>\n",
       "      <td>e</td>\n",
       "      <td>b</td>\n",
       "      <td>s</td>\n",
       "      <td>w</td>\n",
       "      <td>t</td>\n",
       "      <td>l</td>\n",
       "      <td>f</td>\n",
       "      <td>c</td>\n",
       "      <td>b</td>\n",
       "      <td>n</td>\n",
       "      <td>...</td>\n",
       "      <td>s</td>\n",
       "      <td>w</td>\n",
       "      <td>w</td>\n",
       "      <td>p</td>\n",
       "      <td>w</td>\n",
       "      <td>o</td>\n",
       "      <td>p</td>\n",
       "      <td>n</td>\n",
       "      <td>n</td>\n",
       "      <td>m</td>\n",
       "    </tr>\n",
       "    <tr>\n",
       "      <th>3</th>\n",
       "      <td>p</td>\n",
       "      <td>x</td>\n",
       "      <td>y</td>\n",
       "      <td>w</td>\n",
       "      <td>t</td>\n",
       "      <td>p</td>\n",
       "      <td>f</td>\n",
       "      <td>c</td>\n",
       "      <td>n</td>\n",
       "      <td>n</td>\n",
       "      <td>...</td>\n",
       "      <td>s</td>\n",
       "      <td>w</td>\n",
       "      <td>w</td>\n",
       "      <td>p</td>\n",
       "      <td>w</td>\n",
       "      <td>o</td>\n",
       "      <td>p</td>\n",
       "      <td>k</td>\n",
       "      <td>s</td>\n",
       "      <td>u</td>\n",
       "    </tr>\n",
       "    <tr>\n",
       "      <th>4</th>\n",
       "      <td>e</td>\n",
       "      <td>x</td>\n",
       "      <td>s</td>\n",
       "      <td>g</td>\n",
       "      <td>f</td>\n",
       "      <td>n</td>\n",
       "      <td>f</td>\n",
       "      <td>w</td>\n",
       "      <td>b</td>\n",
       "      <td>k</td>\n",
       "      <td>...</td>\n",
       "      <td>s</td>\n",
       "      <td>w</td>\n",
       "      <td>w</td>\n",
       "      <td>p</td>\n",
       "      <td>w</td>\n",
       "      <td>o</td>\n",
       "      <td>e</td>\n",
       "      <td>n</td>\n",
       "      <td>a</td>\n",
       "      <td>g</td>\n",
       "    </tr>\n",
       "    <tr>\n",
       "      <th>5</th>\n",
       "      <td>e</td>\n",
       "      <td>x</td>\n",
       "      <td>y</td>\n",
       "      <td>y</td>\n",
       "      <td>t</td>\n",
       "      <td>a</td>\n",
       "      <td>f</td>\n",
       "      <td>c</td>\n",
       "      <td>b</td>\n",
       "      <td>n</td>\n",
       "      <td>...</td>\n",
       "      <td>s</td>\n",
       "      <td>w</td>\n",
       "      <td>w</td>\n",
       "      <td>p</td>\n",
       "      <td>w</td>\n",
       "      <td>o</td>\n",
       "      <td>p</td>\n",
       "      <td>k</td>\n",
       "      <td>n</td>\n",
       "      <td>g</td>\n",
       "    </tr>\n",
       "    <tr>\n",
       "      <th>6</th>\n",
       "      <td>e</td>\n",
       "      <td>b</td>\n",
       "      <td>s</td>\n",
       "      <td>w</td>\n",
       "      <td>t</td>\n",
       "      <td>a</td>\n",
       "      <td>f</td>\n",
       "      <td>c</td>\n",
       "      <td>b</td>\n",
       "      <td>g</td>\n",
       "      <td>...</td>\n",
       "      <td>s</td>\n",
       "      <td>w</td>\n",
       "      <td>w</td>\n",
       "      <td>p</td>\n",
       "      <td>w</td>\n",
       "      <td>o</td>\n",
       "      <td>p</td>\n",
       "      <td>k</td>\n",
       "      <td>n</td>\n",
       "      <td>m</td>\n",
       "    </tr>\n",
       "    <tr>\n",
       "      <th>7</th>\n",
       "      <td>e</td>\n",
       "      <td>b</td>\n",
       "      <td>y</td>\n",
       "      <td>w</td>\n",
       "      <td>t</td>\n",
       "      <td>l</td>\n",
       "      <td>f</td>\n",
       "      <td>c</td>\n",
       "      <td>b</td>\n",
       "      <td>n</td>\n",
       "      <td>...</td>\n",
       "      <td>s</td>\n",
       "      <td>w</td>\n",
       "      <td>w</td>\n",
       "      <td>p</td>\n",
       "      <td>w</td>\n",
       "      <td>o</td>\n",
       "      <td>p</td>\n",
       "      <td>n</td>\n",
       "      <td>s</td>\n",
       "      <td>m</td>\n",
       "    </tr>\n",
       "    <tr>\n",
       "      <th>8</th>\n",
       "      <td>p</td>\n",
       "      <td>x</td>\n",
       "      <td>y</td>\n",
       "      <td>w</td>\n",
       "      <td>t</td>\n",
       "      <td>p</td>\n",
       "      <td>f</td>\n",
       "      <td>c</td>\n",
       "      <td>n</td>\n",
       "      <td>p</td>\n",
       "      <td>...</td>\n",
       "      <td>s</td>\n",
       "      <td>w</td>\n",
       "      <td>w</td>\n",
       "      <td>p</td>\n",
       "      <td>w</td>\n",
       "      <td>o</td>\n",
       "      <td>p</td>\n",
       "      <td>k</td>\n",
       "      <td>v</td>\n",
       "      <td>g</td>\n",
       "    </tr>\n",
       "    <tr>\n",
       "      <th>9</th>\n",
       "      <td>e</td>\n",
       "      <td>b</td>\n",
       "      <td>s</td>\n",
       "      <td>y</td>\n",
       "      <td>t</td>\n",
       "      <td>a</td>\n",
       "      <td>f</td>\n",
       "      <td>c</td>\n",
       "      <td>b</td>\n",
       "      <td>g</td>\n",
       "      <td>...</td>\n",
       "      <td>s</td>\n",
       "      <td>w</td>\n",
       "      <td>w</td>\n",
       "      <td>p</td>\n",
       "      <td>w</td>\n",
       "      <td>o</td>\n",
       "      <td>p</td>\n",
       "      <td>k</td>\n",
       "      <td>s</td>\n",
       "      <td>m</td>\n",
       "    </tr>\n",
       "  </tbody>\n",
       "</table>\n",
       "<p>10 rows × 23 columns</p>\n",
       "</div>"
      ],
      "text/plain": [
       "  0  1  2  3  4  5  6  7  8  9   ... 13 14 15 16 17 18 19 20 21 22\n",
       "0  p  x  s  n  t  p  f  c  n  k  ...  s  w  w  p  w  o  p  k  s  u\n",
       "1  e  x  s  y  t  a  f  c  b  k  ...  s  w  w  p  w  o  p  n  n  g\n",
       "2  e  b  s  w  t  l  f  c  b  n  ...  s  w  w  p  w  o  p  n  n  m\n",
       "3  p  x  y  w  t  p  f  c  n  n  ...  s  w  w  p  w  o  p  k  s  u\n",
       "4  e  x  s  g  f  n  f  w  b  k  ...  s  w  w  p  w  o  e  n  a  g\n",
       "5  e  x  y  y  t  a  f  c  b  n  ...  s  w  w  p  w  o  p  k  n  g\n",
       "6  e  b  s  w  t  a  f  c  b  g  ...  s  w  w  p  w  o  p  k  n  m\n",
       "7  e  b  y  w  t  l  f  c  b  n  ...  s  w  w  p  w  o  p  n  s  m\n",
       "8  p  x  y  w  t  p  f  c  n  p  ...  s  w  w  p  w  o  p  k  v  g\n",
       "9  e  b  s  y  t  a  f  c  b  g  ...  s  w  w  p  w  o  p  k  s  m\n",
       "\n",
       "[10 rows x 23 columns]"
      ]
     },
     "execution_count": 13,
     "metadata": {},
     "output_type": "execute_result"
    }
   ],
   "source": [
    "# Read the data from GitHub and create a data frame\n",
    "mushroom = pd.read_csv('https://raw.githubusercontent.com/Humayrakausar/AIM-5001/master/agaricus-lepiota%20(1).data', header = None)\n",
    "\n",
    "# Use head function to make sure the data loaded properly\n",
    "mushroom.head(10)"
   ]
  },
  {
   "cell_type": "code",
   "execution_count": 14,
   "metadata": {},
   "outputs": [
    {
     "data": {
      "text/plain": [
       "(8124, 23)"
      ]
     },
     "execution_count": 14,
     "metadata": {},
     "output_type": "execute_result"
    }
   ],
   "source": [
    "# To check the number of rows and columns in the dataset\n",
    "mushroom.shape"
   ]
  },
  {
   "cell_type": "markdown",
   "metadata": {},
   "source": [
    "The dataset contains 8124 rows and 23 columns"
   ]
  },
  {
   "cell_type": "markdown",
   "metadata": {},
   "source": [
    "# Data Dictionary "
   ]
  },
  {
   "cell_type": "markdown",
   "metadata": {},
   "source": [
    "According to the website, the dataset includes descriptions of hypothetical samples corresponding to 23 species of gilled mushrooms in the Agaricus and Lepiota Family (pp. 500-525). Each species is identified as definitely edible, definitely poisonous, or of unknown edibility and not recommended.\n",
    "\n",
    "The dataset contains of 8124 instances and 22 attributes, all the attributes are nominally valued\n",
    "\n",
    "Classes: edible = e, poisonous = p  \n",
    "\n",
    "The attributes of the data are as follows:\n",
    "\n",
    "1. cap-shape: bell=b,conical=c,convex=x,flat=f, knobbed=k,sunken=s\n",
    "2. cap-surface: fibrous=f,grooves=g,scaly=y,smooth=s\n",
    "3. cap-color: brown=n,buff=b,cinnamon=c,gray=g,green=r, pink=p,purple=u,red=e,white=w,yellow=y\n",
    "4. bruises?: bruises=t,no=f\n",
    "5. odor: almond=a,anise=l,creosote=c,fishy=y,foul=f, musty=m,none=n,pungent=p,spicy=s\n",
    "6. gill-attachment: attached=a,descending=d,free=f,notched=n\n",
    "7. gill-spacing: close=c,crowded=w,distant=d\n",
    "8. gill-size: broad=b,narrow=n\n",
    "9. gill-color: black=k,brown=n,buff=b,chocolate=h,gray=g, green=r,orange=o,pink=p,purple=u,red=e, white=w,yellow=y\n",
    "10. stalk-shape: enlarging=e,tapering=t\n",
    "11. stalk-root: bulbous=b,club=c,cup=u,equal=e, rhizomorphs=z,rooted=r,missing=?\n",
    "12. stalk-surface-above-ring: fibrous=f,scaly=y,silky=k,smooth=s\n",
    "13. stalk-surface-below-ring: fibrous=f,scaly=y,silky=k,smooth=s\n",
    "14. stalk-color-above-ring: brown=n,buff=b,cinnamon=c,gray=g,orange=o, pink=p,red=e,white=w,yellow=y\n",
    "15. stalk-color-below-ring: brown=n,buff=b,cinnamon=c,gray=g,orange=o, pink=p,red=e,white=w,yellow=y\n",
    "16. veil-type: partial=p,universal=u\n",
    "17. veil-color: brown=n,orange=o,white=w,yellow=y\n",
    "18. ring-number: none=n,one=o,two=t\n",
    "19. ring-type: cobwebby=c,evanescent=e,flaring=f,large=l, none=n,pendant=p,sheathing=s,zone=z\n",
    "20. spore-print-color: black=k,brown=n,buff=b,chocolate=h,green=r, orange=o,purple=u,white=w,yellow=y\n",
    "21. population: abundant=a,clustered=c,numerous=n, scattered=s,several=v,solitary=y\n",
    "22. habitat: grasses=g,leaves=l,meadows=m,paths=p, urban=u,waste=w,woods=d\n"
   ]
  },
  {
   "cell_type": "markdown",
   "metadata": {},
   "source": [
    "# Data Preparation\n",
    "\n",
    "At this stage, we will create a sub dataframe with the columns that will indicate the class of the mushrooms and odor along with other variables to satisfy the project requirements."
   ]
  },
  {
   "cell_type": "code",
   "execution_count": 46,
   "metadata": {},
   "outputs": [
    {
     "data": {
      "text/html": [
       "<div>\n",
       "<style scoped>\n",
       "    .dataframe tbody tr th:only-of-type {\n",
       "        vertical-align: middle;\n",
       "    }\n",
       "\n",
       "    .dataframe tbody tr th {\n",
       "        vertical-align: top;\n",
       "    }\n",
       "\n",
       "    .dataframe thead th {\n",
       "        text-align: right;\n",
       "    }\n",
       "</style>\n",
       "<table border=\"1\" class=\"dataframe\">\n",
       "  <thead>\n",
       "    <tr style=\"text-align: right;\">\n",
       "      <th></th>\n",
       "      <th>0</th>\n",
       "      <th>1</th>\n",
       "      <th>5</th>\n",
       "      <th>17</th>\n",
       "      <th>22</th>\n",
       "    </tr>\n",
       "  </thead>\n",
       "  <tbody>\n",
       "    <tr>\n",
       "      <th>0</th>\n",
       "      <td>p</td>\n",
       "      <td>x</td>\n",
       "      <td>p</td>\n",
       "      <td>w</td>\n",
       "      <td>u</td>\n",
       "    </tr>\n",
       "    <tr>\n",
       "      <th>1</th>\n",
       "      <td>e</td>\n",
       "      <td>x</td>\n",
       "      <td>a</td>\n",
       "      <td>w</td>\n",
       "      <td>g</td>\n",
       "    </tr>\n",
       "    <tr>\n",
       "      <th>2</th>\n",
       "      <td>e</td>\n",
       "      <td>b</td>\n",
       "      <td>l</td>\n",
       "      <td>w</td>\n",
       "      <td>m</td>\n",
       "    </tr>\n",
       "    <tr>\n",
       "      <th>3</th>\n",
       "      <td>p</td>\n",
       "      <td>x</td>\n",
       "      <td>p</td>\n",
       "      <td>w</td>\n",
       "      <td>u</td>\n",
       "    </tr>\n",
       "    <tr>\n",
       "      <th>4</th>\n",
       "      <td>e</td>\n",
       "      <td>x</td>\n",
       "      <td>n</td>\n",
       "      <td>w</td>\n",
       "      <td>g</td>\n",
       "    </tr>\n",
       "  </tbody>\n",
       "</table>\n",
       "</div>"
      ],
      "text/plain": [
       "  0  1  5  17 22\n",
       "0  p  x  p  w  u\n",
       "1  e  x  a  w  g\n",
       "2  e  b  l  w  m\n",
       "3  p  x  p  w  u\n",
       "4  e  x  n  w  g"
      ]
     },
     "execution_count": 46,
     "metadata": {},
     "output_type": "execute_result"
    }
   ],
   "source": [
    "# Make use of iloc function to cretae a sub dataframe\n",
    "mushroom_sub = mushroom.iloc[:, [0, 1, 5, 17, 22,]].copy()\n",
    "mushroom_sub.head()"
   ]
  },
  {
   "cell_type": "code",
   "execution_count": 47,
   "metadata": {},
   "outputs": [
    {
     "data": {
      "text/plain": [
       "0     0\n",
       "1     0\n",
       "5     0\n",
       "17    0\n",
       "22    0\n",
       "dtype: int64"
      ]
     },
     "execution_count": 47,
     "metadata": {},
     "output_type": "execute_result"
    }
   ],
   "source": [
    "# Make use of isna and sum function to see if there are any null values in the data set\n",
    "mushroom_sub.isna().sum()"
   ]
  },
  {
   "cell_type": "markdown",
   "metadata": {},
   "source": [
    "From the result above it can be stated that there is no null value presence in the dataset "
   ]
  },
  {
   "cell_type": "code",
   "execution_count": 48,
   "metadata": {},
   "outputs": [
    {
     "data": {
      "text/html": [
       "<div>\n",
       "<style scoped>\n",
       "    .dataframe tbody tr th:only-of-type {\n",
       "        vertical-align: middle;\n",
       "    }\n",
       "\n",
       "    .dataframe tbody tr th {\n",
       "        vertical-align: top;\n",
       "    }\n",
       "\n",
       "    .dataframe thead th {\n",
       "        text-align: right;\n",
       "    }\n",
       "</style>\n",
       "<table border=\"1\" class=\"dataframe\">\n",
       "  <thead>\n",
       "    <tr style=\"text-align: right;\">\n",
       "      <th></th>\n",
       "      <th>Class</th>\n",
       "      <th>Cap_shape</th>\n",
       "      <th>Odor</th>\n",
       "      <th>Veil_color</th>\n",
       "      <th>Habitat</th>\n",
       "    </tr>\n",
       "  </thead>\n",
       "  <tbody>\n",
       "    <tr>\n",
       "      <th>0</th>\n",
       "      <td>p</td>\n",
       "      <td>x</td>\n",
       "      <td>p</td>\n",
       "      <td>w</td>\n",
       "      <td>u</td>\n",
       "    </tr>\n",
       "    <tr>\n",
       "      <th>1</th>\n",
       "      <td>e</td>\n",
       "      <td>x</td>\n",
       "      <td>a</td>\n",
       "      <td>w</td>\n",
       "      <td>g</td>\n",
       "    </tr>\n",
       "    <tr>\n",
       "      <th>2</th>\n",
       "      <td>e</td>\n",
       "      <td>b</td>\n",
       "      <td>l</td>\n",
       "      <td>w</td>\n",
       "      <td>m</td>\n",
       "    </tr>\n",
       "    <tr>\n",
       "      <th>3</th>\n",
       "      <td>p</td>\n",
       "      <td>x</td>\n",
       "      <td>p</td>\n",
       "      <td>w</td>\n",
       "      <td>u</td>\n",
       "    </tr>\n",
       "    <tr>\n",
       "      <th>4</th>\n",
       "      <td>e</td>\n",
       "      <td>x</td>\n",
       "      <td>n</td>\n",
       "      <td>w</td>\n",
       "      <td>g</td>\n",
       "    </tr>\n",
       "  </tbody>\n",
       "</table>\n",
       "</div>"
      ],
      "text/plain": [
       "  Class Cap_shape Odor Veil_color Habitat\n",
       "0     p         x    p          w       u\n",
       "1     e         x    a          w       g\n",
       "2     e         b    l          w       m\n",
       "3     p         x    p          w       u\n",
       "4     e         x    n          w       g"
      ]
     },
     "execution_count": 48,
     "metadata": {},
     "output_type": "execute_result"
    }
   ],
   "source": [
    "# Provide suitable name for each column\n",
    "mushroom_sub.columns = ['Class', 'Cap_shape', 'Odor', 'Veil_color','Habitat']\n",
    "mushroom_sub.head()"
   ]
  },
  {
   "cell_type": "markdown",
   "metadata": {},
   "source": [
    "Now, We will transform all the single letter abbreviations into words for better comprehension"
   ]
  },
  {
   "cell_type": "code",
   "execution_count": 49,
   "metadata": {
    "scrolled": true
   },
   "outputs": [
    {
     "data": {
      "text/html": [
       "<div>\n",
       "<style scoped>\n",
       "    .dataframe tbody tr th:only-of-type {\n",
       "        vertical-align: middle;\n",
       "    }\n",
       "\n",
       "    .dataframe tbody tr th {\n",
       "        vertical-align: top;\n",
       "    }\n",
       "\n",
       "    .dataframe thead th {\n",
       "        text-align: right;\n",
       "    }\n",
       "</style>\n",
       "<table border=\"1\" class=\"dataframe\">\n",
       "  <thead>\n",
       "    <tr style=\"text-align: right;\">\n",
       "      <th></th>\n",
       "      <th>Class</th>\n",
       "      <th>Cap_shape</th>\n",
       "      <th>Odor</th>\n",
       "      <th>Veil_color</th>\n",
       "      <th>Habitat</th>\n",
       "    </tr>\n",
       "  </thead>\n",
       "  <tbody>\n",
       "    <tr>\n",
       "      <th>0</th>\n",
       "      <td>poisonous</td>\n",
       "      <td>convex</td>\n",
       "      <td>pungent</td>\n",
       "      <td>white</td>\n",
       "      <td>urban</td>\n",
       "    </tr>\n",
       "    <tr>\n",
       "      <th>1</th>\n",
       "      <td>edible</td>\n",
       "      <td>convex</td>\n",
       "      <td>almond</td>\n",
       "      <td>white</td>\n",
       "      <td>grasses</td>\n",
       "    </tr>\n",
       "    <tr>\n",
       "      <th>2</th>\n",
       "      <td>edible</td>\n",
       "      <td>bell</td>\n",
       "      <td>anise</td>\n",
       "      <td>white</td>\n",
       "      <td>meadows</td>\n",
       "    </tr>\n",
       "    <tr>\n",
       "      <th>3</th>\n",
       "      <td>poisonous</td>\n",
       "      <td>convex</td>\n",
       "      <td>pungent</td>\n",
       "      <td>white</td>\n",
       "      <td>urban</td>\n",
       "    </tr>\n",
       "    <tr>\n",
       "      <th>4</th>\n",
       "      <td>edible</td>\n",
       "      <td>convex</td>\n",
       "      <td>none</td>\n",
       "      <td>white</td>\n",
       "      <td>grasses</td>\n",
       "    </tr>\n",
       "    <tr>\n",
       "      <th>5</th>\n",
       "      <td>edible</td>\n",
       "      <td>convex</td>\n",
       "      <td>almond</td>\n",
       "      <td>white</td>\n",
       "      <td>grasses</td>\n",
       "    </tr>\n",
       "    <tr>\n",
       "      <th>6</th>\n",
       "      <td>edible</td>\n",
       "      <td>bell</td>\n",
       "      <td>almond</td>\n",
       "      <td>white</td>\n",
       "      <td>meadows</td>\n",
       "    </tr>\n",
       "    <tr>\n",
       "      <th>7</th>\n",
       "      <td>edible</td>\n",
       "      <td>bell</td>\n",
       "      <td>anise</td>\n",
       "      <td>white</td>\n",
       "      <td>meadows</td>\n",
       "    </tr>\n",
       "    <tr>\n",
       "      <th>8</th>\n",
       "      <td>poisonous</td>\n",
       "      <td>convex</td>\n",
       "      <td>pungent</td>\n",
       "      <td>white</td>\n",
       "      <td>grasses</td>\n",
       "    </tr>\n",
       "    <tr>\n",
       "      <th>9</th>\n",
       "      <td>edible</td>\n",
       "      <td>bell</td>\n",
       "      <td>almond</td>\n",
       "      <td>white</td>\n",
       "      <td>meadows</td>\n",
       "    </tr>\n",
       "  </tbody>\n",
       "</table>\n",
       "</div>"
      ],
      "text/plain": [
       "       Class Cap_shape     Odor Veil_color  Habitat\n",
       "0  poisonous    convex  pungent      white    urban\n",
       "1     edible    convex   almond      white  grasses\n",
       "2     edible      bell    anise      white  meadows\n",
       "3  poisonous    convex  pungent      white    urban\n",
       "4     edible    convex     none      white  grasses\n",
       "5     edible    convex   almond      white  grasses\n",
       "6     edible      bell   almond      white  meadows\n",
       "7     edible      bell    anise      white  meadows\n",
       "8  poisonous    convex  pungent      white  grasses\n",
       "9     edible      bell   almond      white  meadows"
      ]
     },
     "execution_count": 49,
     "metadata": {},
     "output_type": "execute_result"
    }
   ],
   "source": [
    "# Transform all the column's single letter abbreviated values into words \n",
    "mushroom_sub.Class.replace({'e':'edible','p': 'poisonous'}, inplace = True)\n",
    "\n",
    "mushroom_sub.Cap_shape.replace({'b':'bell', 'c': 'conical', 'x':'convex', 'f': 'flat','k':'knobbed',\n",
    "                                's': 'sunken'}, inplace = True)\n",
    "\n",
    "mushroom_sub.Odor.replace({'a': 'almond', 'l': 'anise', 'c': 'creosote','y': 'fishy', 'f': 'foul', 'm': 'musty',\n",
    "                          'n': 'none', 'p': 'pungent', 's':'spicy'}, inplace = True)\n",
    "\n",
    "mushroom_sub.Veil_color.replace({'n': 'brown', 'o': 'orange', 'w': 'white', 'y': 'yellow'}, inplace = True)\n",
    "\n",
    "\n",
    "mushroom_sub.Habitat.replace({'g': 'grasses', 'l': 'leaves', 'm': 'meadows','p':'paths', 'u': 'urban', 'w': 'waste',\n",
    "                            'd': 'woods'}, inplace = True)\n",
    "\n",
    "# To check whether all the intended transformation have completed properly \n",
    "mushroom_sub.head(10)"
   ]
  },
  {
   "cell_type": "markdown",
   "metadata": {},
   "source": [
    "From the data above, it can be stated that all the column values transformed properly\n",
    "\n",
    "The reason why we selected these columns are based on the [most well-known myths](https://medium.com/analytics-vidhya/mushroom-classification-edible-or-poisonous-9327a56c6fc9) that people have heard (and believe) about the mushrooms:\n",
    "\n",
    "- All white colored mushrooms are edible\n",
    "- Poisonous mushrooms smell and taste awful.\n",
    "- Poisonous mushrooms always have bright, flashy colors\n",
    "- All mushrooms that grow in woods, meadows, and pastures are safe to eat\n",
    "- Poisonous mushrooms have pointy caps\n",
    "\n",
    "We'll be testing whether these myths are true or not, along with what makes a mushroom edible, through the exploratory data analysis."
   ]
  },
  {
   "cell_type": "markdown",
   "metadata": {},
   "source": [
    "# Exploratory Data Analysis"
   ]
  },
  {
   "cell_type": "markdown",
   "metadata": {},
   "source": [
    "Now that we have the dataset in a proper format, we can perform some analysis on it. We will do this by plotting some graphs and charts. We'll start with the data distribution table of each of the columns in our dataset, followed by plotting frequency charts of each of them."
   ]
  },
  {
   "cell_type": "code",
   "execution_count": 50,
   "metadata": {
    "scrolled": true
   },
   "outputs": [
    {
     "data": {
      "text/html": [
       "<div>\n",
       "<style scoped>\n",
       "    .dataframe tbody tr th:only-of-type {\n",
       "        vertical-align: middle;\n",
       "    }\n",
       "\n",
       "    .dataframe tbody tr th {\n",
       "        vertical-align: top;\n",
       "    }\n",
       "\n",
       "    .dataframe thead th {\n",
       "        text-align: right;\n",
       "    }\n",
       "</style>\n",
       "<table border=\"1\" class=\"dataframe\">\n",
       "  <thead>\n",
       "    <tr style=\"text-align: right;\">\n",
       "      <th></th>\n",
       "      <th>Class</th>\n",
       "      <th>Cap_shape</th>\n",
       "      <th>Odor</th>\n",
       "      <th>Veil_color</th>\n",
       "      <th>Habitat</th>\n",
       "    </tr>\n",
       "  </thead>\n",
       "  <tbody>\n",
       "    <tr>\n",
       "      <th>count</th>\n",
       "      <td>8124</td>\n",
       "      <td>8124</td>\n",
       "      <td>8124</td>\n",
       "      <td>8124</td>\n",
       "      <td>8124</td>\n",
       "    </tr>\n",
       "    <tr>\n",
       "      <th>unique</th>\n",
       "      <td>2</td>\n",
       "      <td>6</td>\n",
       "      <td>9</td>\n",
       "      <td>4</td>\n",
       "      <td>7</td>\n",
       "    </tr>\n",
       "    <tr>\n",
       "      <th>top</th>\n",
       "      <td>edible</td>\n",
       "      <td>convex</td>\n",
       "      <td>none</td>\n",
       "      <td>white</td>\n",
       "      <td>woods</td>\n",
       "    </tr>\n",
       "    <tr>\n",
       "      <th>freq</th>\n",
       "      <td>4208</td>\n",
       "      <td>3656</td>\n",
       "      <td>3528</td>\n",
       "      <td>7924</td>\n",
       "      <td>3148</td>\n",
       "    </tr>\n",
       "  </tbody>\n",
       "</table>\n",
       "</div>"
      ],
      "text/plain": [
       "         Class Cap_shape  Odor Veil_color Habitat\n",
       "count     8124      8124  8124       8124    8124\n",
       "unique       2         6     9          4       7\n",
       "top     edible    convex  none      white   woods\n",
       "freq      4208      3656  3528       7924    3148"
      ]
     },
     "execution_count": 50,
     "metadata": {},
     "output_type": "execute_result"
    }
   ],
   "source": [
    "# Make use of describe function to show the data distribution of each column\n",
    "mushroom_sub.describe()"
   ]
  },
  {
   "cell_type": "markdown",
   "metadata": {},
   "source": [
    "The table above shows us that the given dataset has:\n",
    "- 2 unique classes\n",
    "- 6 unique cap shapes\n",
    "- 9 unique odors\n",
    "- 4 unique veil colors\n",
    "- 7 unique habitats\n",
    "\n",
    "Additionally, it also gives us the highest counted value (top) in each of the columns. For example, 'edible' has more frequencies than the other values in the 'class' column."
   ]
  },
  {
   "cell_type": "markdown",
   "metadata": {},
   "source": [
    "#### Frequency charts for each column"
   ]
  },
  {
   "cell_type": "code",
   "execution_count": 51,
   "metadata": {
    "scrolled": true
   },
   "outputs": [
    {
     "data": {
      "text/plain": [
       "<matplotlib.axes._subplots.AxesSubplot at 0x23b96b71370>"
      ]
     },
     "execution_count": 51,
     "metadata": {},
     "output_type": "execute_result"
    },
    {
     "data": {
      "image/png": "[encoded data removed]",
      "text/plain": [
       "<Figure size 648x360 with 1 Axes>"
      ]
     },
     "metadata": {
      "needs_background": "light"
     },
     "output_type": "display_data"
    }
   ],
   "source": [
    "# frequency chart for 'Class'\n",
    "plt.figure(figsize=(9,5))\n",
    "class_chart = sns.countplot(x=\"Class\", data=mushroom_sub)\n",
    "class_chart"
   ]
  },
  {
   "cell_type": "code",
   "execution_count": 52,
   "metadata": {
    "scrolled": true
   },
   "outputs": [
    {
     "data": {
      "text/plain": [
       "<matplotlib.axes._subplots.AxesSubplot at 0x23b97f72e80>"
      ]
     },
     "execution_count": 52,
     "metadata": {},
     "output_type": "execute_result"
    },
    {
     "data": {
      "image/png": "[encoded data removed]",
      "text/plain": [
       "<Figure size 648x360 with 1 Axes>"
      ]
     },
     "metadata": {
      "needs_background": "light"
     },
     "output_type": "display_data"
    }
   ],
   "source": [
    "# frequency chart for 'Cap_shape'\n",
    "plt.figure(figsize=(9,5))\n",
    "cap_chart = sns.countplot(x=\"Cap_shape\", data=mushroom_sub)\n",
    "cap_chart"
   ]
  },
  {
   "cell_type": "code",
   "execution_count": 53,
   "metadata": {
    "scrolled": true
   },
   "outputs": [
    {
     "data": {
      "text/plain": [
       "<matplotlib.axes._subplots.AxesSubplot at 0x23b96c90160>"
      ]
     },
     "execution_count": 53,
     "metadata": {},
     "output_type": "execute_result"
    },
    {
     "data": {
      "image/png": "[encoded data removed]",
      "text/plain": [
       "<Figure size 648x360 with 1 Axes>"
      ]
     },
     "metadata": {
      "needs_background": "light"
     },
     "output_type": "display_data"
    }
   ],
   "source": [
    "# frequency chart for 'Odor'\n",
    "plt.figure(figsize=(9,5))\n",
    "odor_chart = sns.countplot(x=\"Odor\", data=mushroom_sub)\n",
    "odor_chart"
   ]
  },
  {
   "cell_type": "code",
   "execution_count": 54,
   "metadata": {},
   "outputs": [
    {
     "data": {
      "text/plain": [
       "<matplotlib.axes._subplots.AxesSubplot at 0x23b97fe2d90>"
      ]
     },
     "execution_count": 54,
     "metadata": {},
     "output_type": "execute_result"
    },
    {
     "data": {
      "image/png": "[encoded data removed]",
      "text/plain": [
       "<Figure size 648x360 with 1 Axes>"
      ]
     },
     "metadata": {
      "needs_background": "light"
     },
     "output_type": "display_data"
    }
   ],
   "source": [
    "# frequency chart for 'Veil_color'\n",
    "plt.figure(figsize=(9,5))\n",
    "Veil_color_chart = sns.countplot(x=\"Veil_color\", data=mushroom_sub)\n",
    "Veil_color_chart"
   ]
  },
  {
   "cell_type": "code",
   "execution_count": 55,
   "metadata": {
    "scrolled": true
   },
   "outputs": [
    {
     "data": {
      "text/plain": [
       "<matplotlib.axes._subplots.AxesSubplot at 0x23b9804a520>"
      ]
     },
     "execution_count": 55,
     "metadata": {},
     "output_type": "execute_result"
    },
    {
     "data": {
      "image/png": "[encoded data removed]",
      "text/plain": [
       "<Figure size 648x360 with 1 Axes>"
      ]
     },
     "metadata": {
      "needs_background": "light"
     },
     "output_type": "display_data"
    }
   ],
   "source": [
    "# frequency chart for 'Habitat'\n",
    "plt.figure(figsize=(9,5))\n",
    "Habitat_chart = sns.countplot(x=\"Habitat\", data=mushroom_sub)\n",
    "Habitat_chart"
   ]
  },
  {
   "cell_type": "markdown",
   "metadata": {},
   "source": [
    "By plotting a bar plot showcasing the frequency of each element in the columns of the dataset, we get the following readings:\n",
    "\n",
    "- The number of edible mushrooms exceeds poisonous ones by approximately 400.\n",
    "- Most of the mushrooms have convex caps, followed by ‘flat’.\n",
    "- Most of the mushrooms are odorless, followed by 'foul odor'.\n",
    "- Most of the mushroom's veil colors are white.\n",
    "- Most mushrooms are found in the woods, followed by grasses.\n",
    "\n",
    "Now that we have a clear idea of the distribution of the features of the mushrooms in the dataset, we can do further analysis to see if a mushroom's odor, cap shape, and veil color determine whether it is edible or poisonous.\n",
    "\n",
    "### Edibility of mushrooms based on its features\n",
    "\n",
    "We'll analyze this by doing the following comparisons:"
   ]
  },
  {
   "cell_type": "code",
   "execution_count": 56,
   "metadata": {
    "scrolled": false
   },
   "outputs": [
    {
     "data": {
      "text/plain": [
       "<matplotlib.axes._subplots.AxesSubplot at 0x23b980fbcd0>"
      ]
     },
     "execution_count": 56,
     "metadata": {},
     "output_type": "execute_result"
    },
    {
     "data": {
      "image/png": "[encoded data removed]",
      "text/plain": [
       "<Figure size 648x360 with 1 Axes>"
      ]
     },
     "metadata": {
      "needs_background": "light"
     },
     "output_type": "display_data"
    }
   ],
   "source": [
    "# class vs. odor\n",
    "plt.figure(figsize=(9,5))\n",
    "class_odor = sns.countplot(x=\"Odor\", hue=\"Class\", data=mushroom_sub)\n",
    "class_odor"
   ]
  },
  {
   "cell_type": "code",
   "execution_count": 57,
   "metadata": {},
   "outputs": [
    {
     "data": {
      "text/plain": [
       "<matplotlib.axes._subplots.AxesSubplot at 0x23b98177c10>"
      ]
     },
     "execution_count": 57,
     "metadata": {},
     "output_type": "execute_result"
    },
    {
     "data": {
      "image/png": "[encoded data removed]",
      "text/plain": [
       "<Figure size 648x360 with 1 Axes>"
      ]
     },
     "metadata": {
      "needs_background": "light"
     },
     "output_type": "display_data"
    }
   ],
   "source": [
    "# class v. cap shape\n",
    "plt.figure(figsize=(9,5))\n",
    "class_cap = sns.countplot(x=\"Cap_shape\", hue=\"Class\", data=mushroom_sub)\n",
    "class_cap"
   ]
  },
  {
   "cell_type": "code",
   "execution_count": 58,
   "metadata": {},
   "outputs": [
    {
     "data": {
      "text/plain": [
       "<matplotlib.axes._subplots.AxesSubplot at 0x23b981f1b80>"
      ]
     },
     "execution_count": 58,
     "metadata": {},
     "output_type": "execute_result"
    },
    {
     "data": {
      "image/png": "[encoded data removed]",
      "text/plain": [
       "<Figure size 648x360 with 1 Axes>"
      ]
     },
     "metadata": {
      "needs_background": "light"
     },
     "output_type": "display_data"
    }
   ],
   "source": [
    "# class v. Veil_color\n",
    "plt.figure(figsize=(9,5))\n",
    "class_Veil_color = sns.countplot(x=\"Veil_color\", hue=\"Class\", data=mushroom_sub)\n",
    "class_Veil_color"
   ]
  },
  {
   "cell_type": "code",
   "execution_count": 59,
   "metadata": {
    "scrolled": true
   },
   "outputs": [
    {
     "data": {
      "text/plain": [
       "<matplotlib.axes._subplots.AxesSubplot at 0x23b9827f670>"
      ]
     },
     "execution_count": 59,
     "metadata": {},
     "output_type": "execute_result"
    },
    {
     "data": {
      "image/png": "[encoded data removed]",
      "text/plain": [
       "<Figure size 648x360 with 1 Axes>"
      ]
     },
     "metadata": {
      "needs_background": "light"
     },
     "output_type": "display_data"
    }
   ],
   "source": [
    "# class v. Habitat\n",
    "plt.figure(figsize=(9,5))\n",
    "class_Habitat = sns.countplot(x=\"Habitat\", hue=\"Class\", data=mushroom_sub)\n",
    "class_Habitat"
   ]
  },
  {
   "cell_type": "markdown",
   "metadata": {},
   "source": [
    "**Class vs. odor** <br />\n",
    "Most edible mushrooms have no odor, whereas most poisonous ones have a foul. The poisonous ones also have varied types of odors when compared to the edible that ones have only two (almond and anise). Since the proportion of odorless edible mushrooms is far greater than the poisonous ones, we can say that **if a mushroom is odorless, it is most likely edible.** \n",
    "\n",
    "**Class vs. cap shape** <br />\n",
    "Most edible mushrooms are convex or flat, but so are most poisonous ones. The difference between their frequencies isn't that great either, and hence we can say that **the cap shape is not a valid indicator of a mushroom's edibility.**\n",
    "\n",
    "**Class vs. Veil color** <br />\n",
    "Most edible mushrooms are white, but so are most poisonous ones. The difference between their frequencies is small, and hence we can say that **the veil color can't show if a mushroom is edible or not.**\n",
    "\n",
    "**Class vs. Habitat** <br />\n",
    "Most edible mushrooms are found in the wild, but so are most poisonous ones. While the difference between their frequencies is more than the ones in 'cap shape' and 'veil color', it is still not significant to establish if a mushroom found in the wild is edible. Hence, we can say that **one may or may not consider a mushroom found in the wild to be edible.**\n",
    "\n",
    "Out of the four parameters we tested against 'class', the only determining factor we've found regarding a mushroom's edibilty is the 'odor'."
   ]
  },
  {
   "cell_type": "markdown",
   "metadata": {},
   "source": [
    "# Building the Predictive Models\n",
    "\n",
    "With our EDA completed with preliminary conclusions, we can now start building a predictive model that can tell if a mushroom is edible or poisonous. We'll begin with Logistic Regression."
   ]
  },
  {
   "cell_type": "markdown",
   "metadata": {},
   "source": [
    "### Preparing Data for Logistic Regression\n",
    "\n",
    "To perform regression on our given dataset, we'll first have to determine our independent and dependant variables. Since we want to predict the edibility of a mushroom, the 'class' column will be our independent variable. The other columns will be our dependant variables.\n",
    "\n",
    "Additionally, regression can not be performed on categorical data, and hence, we'll be converting all our categorical data into numerics using dummy variables.\n",
    "\n",
    "We'll first convert the 'class' column into dummy variables."
   ]
  },
  {
   "cell_type": "code",
   "execution_count": 60,
   "metadata": {},
   "outputs": [
    {
     "data": {
      "text/html": [
       "<div>\n",
       "<style scoped>\n",
       "    .dataframe tbody tr th:only-of-type {\n",
       "        vertical-align: middle;\n",
       "    }\n",
       "\n",
       "    .dataframe tbody tr th {\n",
       "        vertical-align: top;\n",
       "    }\n",
       "\n",
       "    .dataframe thead th {\n",
       "        text-align: right;\n",
       "    }\n",
       "</style>\n",
       "<table border=\"1\" class=\"dataframe\">\n",
       "  <thead>\n",
       "    <tr style=\"text-align: right;\">\n",
       "      <th></th>\n",
       "      <th>Class</th>\n",
       "      <th>Cap_shape</th>\n",
       "      <th>Odor</th>\n",
       "      <th>Veil_color</th>\n",
       "      <th>Habitat</th>\n",
       "    </tr>\n",
       "  </thead>\n",
       "  <tbody>\n",
       "    <tr>\n",
       "      <th>0</th>\n",
       "      <td>1</td>\n",
       "      <td>convex</td>\n",
       "      <td>pungent</td>\n",
       "      <td>white</td>\n",
       "      <td>urban</td>\n",
       "    </tr>\n",
       "    <tr>\n",
       "      <th>1</th>\n",
       "      <td>0</td>\n",
       "      <td>convex</td>\n",
       "      <td>almond</td>\n",
       "      <td>white</td>\n",
       "      <td>grasses</td>\n",
       "    </tr>\n",
       "    <tr>\n",
       "      <th>2</th>\n",
       "      <td>0</td>\n",
       "      <td>bell</td>\n",
       "      <td>anise</td>\n",
       "      <td>white</td>\n",
       "      <td>meadows</td>\n",
       "    </tr>\n",
       "    <tr>\n",
       "      <th>3</th>\n",
       "      <td>1</td>\n",
       "      <td>convex</td>\n",
       "      <td>pungent</td>\n",
       "      <td>white</td>\n",
       "      <td>urban</td>\n",
       "    </tr>\n",
       "    <tr>\n",
       "      <th>4</th>\n",
       "      <td>0</td>\n",
       "      <td>convex</td>\n",
       "      <td>none</td>\n",
       "      <td>white</td>\n",
       "      <td>grasses</td>\n",
       "    </tr>\n",
       "  </tbody>\n",
       "</table>\n",
       "</div>"
      ],
      "text/plain": [
       "   Class Cap_shape     Odor Veil_color  Habitat\n",
       "0      1    convex  pungent      white    urban\n",
       "1      0    convex   almond      white  grasses\n",
       "2      0      bell    anise      white  meadows\n",
       "3      1    convex  pungent      white    urban\n",
       "4      0    convex     none      white  grasses"
      ]
     },
     "execution_count": 60,
     "metadata": {},
     "output_type": "execute_result"
    }
   ],
   "source": [
    "# Convert edible and poisonous indicators in class column into digits\n",
    "mushroom_sub.Class.replace('edible', 0, inplace = True)\n",
    "mushroom_sub.Class.replace('poisonous', 1, inplace = True)\n",
    "# To check whether the class column values converted properly\n",
    "mushroom_sub.head()"
   ]
  },
  {
   "cell_type": "markdown",
   "metadata": {},
   "source": [
    "From the data above, it can be inferred that the class column values were coverted properly. We'll now create dummy variables for the rest of the columns."
   ]
  },
  {
   "cell_type": "code",
   "execution_count": 63,
   "metadata": {
    "scrolled": true
   },
   "outputs": [
    {
     "data": {
      "text/html": [
       "<div>\n",
       "<style scoped>\n",
       "    .dataframe tbody tr th:only-of-type {\n",
       "        vertical-align: middle;\n",
       "    }\n",
       "\n",
       "    .dataframe tbody tr th {\n",
       "        vertical-align: top;\n",
       "    }\n",
       "\n",
       "    .dataframe thead th {\n",
       "        text-align: right;\n",
       "    }\n",
       "</style>\n",
       "<table border=\"1\" class=\"dataframe\">\n",
       "  <thead>\n",
       "    <tr style=\"text-align: right;\">\n",
       "      <th></th>\n",
       "      <th>Class</th>\n",
       "      <th>Cap_shape_bell</th>\n",
       "      <th>Cap_shape_conical</th>\n",
       "      <th>Cap_shape_convex</th>\n",
       "      <th>Cap_shape_flat</th>\n",
       "      <th>Cap_shape_knobbed</th>\n",
       "      <th>Cap_shape_sunken</th>\n",
       "      <th>Odor_almond</th>\n",
       "      <th>Odor_anise</th>\n",
       "      <th>Odor_creosote</th>\n",
       "      <th>...</th>\n",
       "      <th>Veil_color_orange</th>\n",
       "      <th>Veil_color_white</th>\n",
       "      <th>Veil_color_yellow</th>\n",
       "      <th>Habitat_grasses</th>\n",
       "      <th>Habitat_leaves</th>\n",
       "      <th>Habitat_meadows</th>\n",
       "      <th>Habitat_paths</th>\n",
       "      <th>Habitat_urban</th>\n",
       "      <th>Habitat_waste</th>\n",
       "      <th>Habitat_woods</th>\n",
       "    </tr>\n",
       "  </thead>\n",
       "  <tbody>\n",
       "    <tr>\n",
       "      <th>0</th>\n",
       "      <td>1</td>\n",
       "      <td>0</td>\n",
       "      <td>0</td>\n",
       "      <td>1</td>\n",
       "      <td>0</td>\n",
       "      <td>0</td>\n",
       "      <td>0</td>\n",
       "      <td>0</td>\n",
       "      <td>0</td>\n",
       "      <td>0</td>\n",
       "      <td>...</td>\n",
       "      <td>0</td>\n",
       "      <td>1</td>\n",
       "      <td>0</td>\n",
       "      <td>0</td>\n",
       "      <td>0</td>\n",
       "      <td>0</td>\n",
       "      <td>0</td>\n",
       "      <td>1</td>\n",
       "      <td>0</td>\n",
       "      <td>0</td>\n",
       "    </tr>\n",
       "    <tr>\n",
       "      <th>1</th>\n",
       "      <td>0</td>\n",
       "      <td>0</td>\n",
       "      <td>0</td>\n",
       "      <td>1</td>\n",
       "      <td>0</td>\n",
       "      <td>0</td>\n",
       "      <td>0</td>\n",
       "      <td>1</td>\n",
       "      <td>0</td>\n",
       "      <td>0</td>\n",
       "      <td>...</td>\n",
       "      <td>0</td>\n",
       "      <td>1</td>\n",
       "      <td>0</td>\n",
       "      <td>1</td>\n",
       "      <td>0</td>\n",
       "      <td>0</td>\n",
       "      <td>0</td>\n",
       "      <td>0</td>\n",
       "      <td>0</td>\n",
       "      <td>0</td>\n",
       "    </tr>\n",
       "    <tr>\n",
       "      <th>2</th>\n",
       "      <td>0</td>\n",
       "      <td>1</td>\n",
       "      <td>0</td>\n",
       "      <td>0</td>\n",
       "      <td>0</td>\n",
       "      <td>0</td>\n",
       "      <td>0</td>\n",
       "      <td>0</td>\n",
       "      <td>1</td>\n",
       "      <td>0</td>\n",
       "      <td>...</td>\n",
       "      <td>0</td>\n",
       "      <td>1</td>\n",
       "      <td>0</td>\n",
       "      <td>0</td>\n",
       "      <td>0</td>\n",
       "      <td>1</td>\n",
       "      <td>0</td>\n",
       "      <td>0</td>\n",
       "      <td>0</td>\n",
       "      <td>0</td>\n",
       "    </tr>\n",
       "    <tr>\n",
       "      <th>3</th>\n",
       "      <td>1</td>\n",
       "      <td>0</td>\n",
       "      <td>0</td>\n",
       "      <td>1</td>\n",
       "      <td>0</td>\n",
       "      <td>0</td>\n",
       "      <td>0</td>\n",
       "      <td>0</td>\n",
       "      <td>0</td>\n",
       "      <td>0</td>\n",
       "      <td>...</td>\n",
       "      <td>0</td>\n",
       "      <td>1</td>\n",
       "      <td>0</td>\n",
       "      <td>0</td>\n",
       "      <td>0</td>\n",
       "      <td>0</td>\n",
       "      <td>0</td>\n",
       "      <td>1</td>\n",
       "      <td>0</td>\n",
       "      <td>0</td>\n",
       "    </tr>\n",
       "    <tr>\n",
       "      <th>4</th>\n",
       "      <td>0</td>\n",
       "      <td>0</td>\n",
       "      <td>0</td>\n",
       "      <td>1</td>\n",
       "      <td>0</td>\n",
       "      <td>0</td>\n",
       "      <td>0</td>\n",
       "      <td>0</td>\n",
       "      <td>0</td>\n",
       "      <td>0</td>\n",
       "      <td>...</td>\n",
       "      <td>0</td>\n",
       "      <td>1</td>\n",
       "      <td>0</td>\n",
       "      <td>1</td>\n",
       "      <td>0</td>\n",
       "      <td>0</td>\n",
       "      <td>0</td>\n",
       "      <td>0</td>\n",
       "      <td>0</td>\n",
       "      <td>0</td>\n",
       "    </tr>\n",
       "  </tbody>\n",
       "</table>\n",
       "<p>5 rows × 27 columns</p>\n",
       "</div>"
      ],
      "text/plain": [
       "   Class  Cap_shape_bell  Cap_shape_conical  Cap_shape_convex  Cap_shape_flat  \\\n",
       "0      1               0                  0                 1               0   \n",
       "1      0               0                  0                 1               0   \n",
       "2      0               1                  0                 0               0   \n",
       "3      1               0                  0                 1               0   \n",
       "4      0               0                  0                 1               0   \n",
       "\n",
       "   Cap_shape_knobbed  Cap_shape_sunken  Odor_almond  Odor_anise  \\\n",
       "0                  0                 0            0           0   \n",
       "1                  0                 0            1           0   \n",
       "2                  0                 0            0           1   \n",
       "3                  0                 0            0           0   \n",
       "4                  0                 0            0           0   \n",
       "\n",
       "   Odor_creosote  ...  Veil_color_orange  Veil_color_white  Veil_color_yellow  \\\n",
       "0              0  ...                  0                 1                  0   \n",
       "1              0  ...                  0                 1                  0   \n",
       "2              0  ...                  0                 1                  0   \n",
       "3              0  ...                  0                 1                  0   \n",
       "4              0  ...                  0                 1                  0   \n",
       "\n",
       "   Habitat_grasses  Habitat_leaves  Habitat_meadows  Habitat_paths  \\\n",
       "0                0               0                0              0   \n",
       "1                1               0                0              0   \n",
       "2                0               0                1              0   \n",
       "3                0               0                0              0   \n",
       "4                1               0                0              0   \n",
       "\n",
       "   Habitat_urban  Habitat_waste  Habitat_woods  \n",
       "0              1              0              0  \n",
       "1              0              0              0  \n",
       "2              0              0              0  \n",
       "3              1              0              0  \n",
       "4              0              0              0  \n",
       "\n",
       "[5 rows x 27 columns]"
      ]
     },
     "execution_count": 63,
     "metadata": {},
     "output_type": "execute_result"
    }
   ],
   "source": [
    "# To create dummy variables for rest of the columns \n",
    "m_dummy = pd.get_dummies(mushroom_sub)\n",
    "# To check whether dummy variables created properly \n",
    "m_dummy.head()"
   ]
  },
  {
   "cell_type": "markdown",
   "metadata": {},
   "source": [
    "From the data above, it can be stated that the dummy variables have been created for all the intended columns properly."
   ]
  },
  {
   "cell_type": "markdown",
   "metadata": {},
   "source": [
    "**Separate the response and explanatory variables for training and testing data** <br />"
   ]
  },
  {
   "cell_type": "code",
   "execution_count": 64,
   "metadata": {},
   "outputs": [
    {
     "data": {
      "text/plain": [
       "0    1\n",
       "1    0\n",
       "2    0\n",
       "3    1\n",
       "4    0\n",
       "Name: Class, dtype: int64"
      ]
     },
     "execution_count": 64,
     "metadata": {},
     "output_type": "execute_result"
    }
   ],
   "source": [
    "# Separate response variable(y) from the dataset called m_dummy\n",
    "y = m_dummy.iloc[:,0]\n",
    "y.head()"
   ]
  },
  {
   "cell_type": "code",
   "execution_count": 65,
   "metadata": {},
   "outputs": [
    {
     "data": {
      "text/html": [
       "<div>\n",
       "<style scoped>\n",
       "    .dataframe tbody tr th:only-of-type {\n",
       "        vertical-align: middle;\n",
       "    }\n",
       "\n",
       "    .dataframe tbody tr th {\n",
       "        vertical-align: top;\n",
       "    }\n",
       "\n",
       "    .dataframe thead th {\n",
       "        text-align: right;\n",
       "    }\n",
       "</style>\n",
       "<table border=\"1\" class=\"dataframe\">\n",
       "  <thead>\n",
       "    <tr style=\"text-align: right;\">\n",
       "      <th></th>\n",
       "      <th>Cap_shape_bell</th>\n",
       "      <th>Cap_shape_conical</th>\n",
       "      <th>Cap_shape_convex</th>\n",
       "      <th>Cap_shape_flat</th>\n",
       "      <th>Cap_shape_knobbed</th>\n",
       "      <th>Cap_shape_sunken</th>\n",
       "      <th>Odor_almond</th>\n",
       "      <th>Odor_anise</th>\n",
       "      <th>Odor_creosote</th>\n",
       "      <th>Odor_fishy</th>\n",
       "      <th>...</th>\n",
       "      <th>Veil_color_orange</th>\n",
       "      <th>Veil_color_white</th>\n",
       "      <th>Veil_color_yellow</th>\n",
       "      <th>Habitat_grasses</th>\n",
       "      <th>Habitat_leaves</th>\n",
       "      <th>Habitat_meadows</th>\n",
       "      <th>Habitat_paths</th>\n",
       "      <th>Habitat_urban</th>\n",
       "      <th>Habitat_waste</th>\n",
       "      <th>Habitat_woods</th>\n",
       "    </tr>\n",
       "  </thead>\n",
       "  <tbody>\n",
       "    <tr>\n",
       "      <th>0</th>\n",
       "      <td>0</td>\n",
       "      <td>0</td>\n",
       "      <td>1</td>\n",
       "      <td>0</td>\n",
       "      <td>0</td>\n",
       "      <td>0</td>\n",
       "      <td>0</td>\n",
       "      <td>0</td>\n",
       "      <td>0</td>\n",
       "      <td>0</td>\n",
       "      <td>...</td>\n",
       "      <td>0</td>\n",
       "      <td>1</td>\n",
       "      <td>0</td>\n",
       "      <td>0</td>\n",
       "      <td>0</td>\n",
       "      <td>0</td>\n",
       "      <td>0</td>\n",
       "      <td>1</td>\n",
       "      <td>0</td>\n",
       "      <td>0</td>\n",
       "    </tr>\n",
       "    <tr>\n",
       "      <th>1</th>\n",
       "      <td>0</td>\n",
       "      <td>0</td>\n",
       "      <td>1</td>\n",
       "      <td>0</td>\n",
       "      <td>0</td>\n",
       "      <td>0</td>\n",
       "      <td>1</td>\n",
       "      <td>0</td>\n",
       "      <td>0</td>\n",
       "      <td>0</td>\n",
       "      <td>...</td>\n",
       "      <td>0</td>\n",
       "      <td>1</td>\n",
       "      <td>0</td>\n",
       "      <td>1</td>\n",
       "      <td>0</td>\n",
       "      <td>0</td>\n",
       "      <td>0</td>\n",
       "      <td>0</td>\n",
       "      <td>0</td>\n",
       "      <td>0</td>\n",
       "    </tr>\n",
       "    <tr>\n",
       "      <th>2</th>\n",
       "      <td>1</td>\n",
       "      <td>0</td>\n",
       "      <td>0</td>\n",
       "      <td>0</td>\n",
       "      <td>0</td>\n",
       "      <td>0</td>\n",
       "      <td>0</td>\n",
       "      <td>1</td>\n",
       "      <td>0</td>\n",
       "      <td>0</td>\n",
       "      <td>...</td>\n",
       "      <td>0</td>\n",
       "      <td>1</td>\n",
       "      <td>0</td>\n",
       "      <td>0</td>\n",
       "      <td>0</td>\n",
       "      <td>1</td>\n",
       "      <td>0</td>\n",
       "      <td>0</td>\n",
       "      <td>0</td>\n",
       "      <td>0</td>\n",
       "    </tr>\n",
       "    <tr>\n",
       "      <th>3</th>\n",
       "      <td>0</td>\n",
       "      <td>0</td>\n",
       "      <td>1</td>\n",
       "      <td>0</td>\n",
       "      <td>0</td>\n",
       "      <td>0</td>\n",
       "      <td>0</td>\n",
       "      <td>0</td>\n",
       "      <td>0</td>\n",
       "      <td>0</td>\n",
       "      <td>...</td>\n",
       "      <td>0</td>\n",
       "      <td>1</td>\n",
       "      <td>0</td>\n",
       "      <td>0</td>\n",
       "      <td>0</td>\n",
       "      <td>0</td>\n",
       "      <td>0</td>\n",
       "      <td>1</td>\n",
       "      <td>0</td>\n",
       "      <td>0</td>\n",
       "    </tr>\n",
       "    <tr>\n",
       "      <th>4</th>\n",
       "      <td>0</td>\n",
       "      <td>0</td>\n",
       "      <td>1</td>\n",
       "      <td>0</td>\n",
       "      <td>0</td>\n",
       "      <td>0</td>\n",
       "      <td>0</td>\n",
       "      <td>0</td>\n",
       "      <td>0</td>\n",
       "      <td>0</td>\n",
       "      <td>...</td>\n",
       "      <td>0</td>\n",
       "      <td>1</td>\n",
       "      <td>0</td>\n",
       "      <td>1</td>\n",
       "      <td>0</td>\n",
       "      <td>0</td>\n",
       "      <td>0</td>\n",
       "      <td>0</td>\n",
       "      <td>0</td>\n",
       "      <td>0</td>\n",
       "    </tr>\n",
       "  </tbody>\n",
       "</table>\n",
       "<p>5 rows × 26 columns</p>\n",
       "</div>"
      ],
      "text/plain": [
       "   Cap_shape_bell  Cap_shape_conical  Cap_shape_convex  Cap_shape_flat  \\\n",
       "0               0                  0                 1               0   \n",
       "1               0                  0                 1               0   \n",
       "2               1                  0                 0               0   \n",
       "3               0                  0                 1               0   \n",
       "4               0                  0                 1               0   \n",
       "\n",
       "   Cap_shape_knobbed  Cap_shape_sunken  Odor_almond  Odor_anise  \\\n",
       "0                  0                 0            0           0   \n",
       "1                  0                 0            1           0   \n",
       "2                  0                 0            0           1   \n",
       "3                  0                 0            0           0   \n",
       "4                  0                 0            0           0   \n",
       "\n",
       "   Odor_creosote  Odor_fishy  ...  Veil_color_orange  Veil_color_white  \\\n",
       "0              0           0  ...                  0                 1   \n",
       "1              0           0  ...                  0                 1   \n",
       "2              0           0  ...                  0                 1   \n",
       "3              0           0  ...                  0                 1   \n",
       "4              0           0  ...                  0                 1   \n",
       "\n",
       "   Veil_color_yellow  Habitat_grasses  Habitat_leaves  Habitat_meadows  \\\n",
       "0                  0                0               0                0   \n",
       "1                  0                1               0                0   \n",
       "2                  0                0               0                1   \n",
       "3                  0                0               0                0   \n",
       "4                  0                1               0                0   \n",
       "\n",
       "   Habitat_paths  Habitat_urban  Habitat_waste  Habitat_woods  \n",
       "0              0              1              0              0  \n",
       "1              0              0              0              0  \n",
       "2              0              0              0              0  \n",
       "3              0              1              0              0  \n",
       "4              0              0              0              0  \n",
       "\n",
       "[5 rows x 26 columns]"
      ]
     },
     "execution_count": 65,
     "metadata": {},
     "output_type": "execute_result"
    }
   ],
   "source": [
    "# Separate explanatory variables(x) from the dataset called m_dummy\n",
    "x = m_dummy.iloc[:,1:]\n",
    "x.head()"
   ]
  },
  {
   "cell_type": "markdown",
   "metadata": {},
   "source": [
    "### Using Logistic Regression to predict\n",
    "\n",
    "Logistic regression is a statistical method for analyzing a dataset in which there are one or more independent variables that determine an outcome. The outcome is measured with a dichotomous variable (in which there are only two possible outcomes).<br />\n",
    "\n",
    "The goal of here is to find the best fitting (yet reasonable) model to describe the relationship between the dichotomous characteristic of interest (dependent variable) and the set of predictor (independant variable)."
   ]
  },
  {
   "cell_type": "markdown",
   "metadata": {},
   "source": [
    "First we will run logistic regression on the entire data set to see the accuracy of the model"
   ]
  },
  {
   "cell_type": "code",
   "execution_count": 66,
   "metadata": {},
   "outputs": [
    {
     "data": {
      "text/plain": [
       "LogisticRegression()"
      ]
     },
     "execution_count": 66,
     "metadata": {},
     "output_type": "execute_result"
    }
   ],
   "source": [
    "# Use a logistic regression algorithm, and fit with X and y\n",
    "model = LogisticRegression()\n",
    "model = model.fit(x,y)\n",
    "model"
   ]
  },
  {
   "cell_type": "code",
   "execution_count": 67,
   "metadata": {},
   "outputs": [
    {
     "data": {
      "text/plain": [
       "0.9881831610044313"
      ]
     },
     "execution_count": 67,
     "metadata": {},
     "output_type": "execute_result"
    }
   ],
   "source": [
    "# Calculate the accuracy of the model relative to the entire data set\n",
    "model.score(x,y)"
   ]
  },
  {
   "cell_type": "markdown",
   "metadata": {},
   "source": [
    "This model has an accuracy of 98%."
   ]
  },
  {
   "cell_type": "markdown",
   "metadata": {},
   "source": [
    "#### Examining the model coefficients for the explanatory variables\n",
    "\n",
    "Logistic regression generates the coefficients that predict a logical transformation of the probability of presence of the characteristic of the interest. The coefficient of each feature can be understood as the importance of the feature based on the absolute value. We'll also use barplots to visually represent the results."
   ]
  },
  {
   "cell_type": "code",
   "execution_count": 68,
   "metadata": {},
   "outputs": [
    {
     "data": {
      "text/html": [
       "<div>\n",
       "<style scoped>\n",
       "    .dataframe tbody tr th:only-of-type {\n",
       "        vertical-align: middle;\n",
       "    }\n",
       "\n",
       "    .dataframe tbody tr th {\n",
       "        vertical-align: top;\n",
       "    }\n",
       "\n",
       "    .dataframe thead th {\n",
       "        text-align: right;\n",
       "    }\n",
       "</style>\n",
       "<table border=\"1\" class=\"dataframe\">\n",
       "  <thead>\n",
       "    <tr style=\"text-align: right;\">\n",
       "      <th></th>\n",
       "      <th>Variables</th>\n",
       "      <th>Coefficients</th>\n",
       "    </tr>\n",
       "  </thead>\n",
       "  <tbody>\n",
       "    <tr>\n",
       "      <th>0</th>\n",
       "      <td>Cap_shape_bell</td>\n",
       "      <td>1.009905</td>\n",
       "    </tr>\n",
       "    <tr>\n",
       "      <th>1</th>\n",
       "      <td>Cap_shape_conical</td>\n",
       "      <td>1.425851</td>\n",
       "    </tr>\n",
       "    <tr>\n",
       "      <th>2</th>\n",
       "      <td>Cap_shape_convex</td>\n",
       "      <td>-1.304892</td>\n",
       "    </tr>\n",
       "    <tr>\n",
       "      <th>3</th>\n",
       "      <td>Cap_shape_flat</td>\n",
       "      <td>-0.503339</td>\n",
       "    </tr>\n",
       "    <tr>\n",
       "      <th>4</th>\n",
       "      <td>Cap_shape_knobbed</td>\n",
       "      <td>0.186752</td>\n",
       "    </tr>\n",
       "    <tr>\n",
       "      <th>5</th>\n",
       "      <td>Cap_shape_sunken</td>\n",
       "      <td>-0.814897</td>\n",
       "    </tr>\n",
       "    <tr>\n",
       "      <th>6</th>\n",
       "      <td>Odor_almond</td>\n",
       "      <td>-7.865484</td>\n",
       "    </tr>\n",
       "    <tr>\n",
       "      <th>7</th>\n",
       "      <td>Odor_anise</td>\n",
       "      <td>-7.865484</td>\n",
       "    </tr>\n",
       "    <tr>\n",
       "      <th>8</th>\n",
       "      <td>Odor_creosote</td>\n",
       "      <td>3.455126</td>\n",
       "    </tr>\n",
       "    <tr>\n",
       "      <th>9</th>\n",
       "      <td>Odor_fishy</td>\n",
       "      <td>3.450991</td>\n",
       "    </tr>\n",
       "    <tr>\n",
       "      <th>10</th>\n",
       "      <td>Odor_foul</td>\n",
       "      <td>4.931114</td>\n",
       "    </tr>\n",
       "    <tr>\n",
       "      <th>11</th>\n",
       "      <td>Odor_musty</td>\n",
       "      <td>1.799534</td>\n",
       "    </tr>\n",
       "    <tr>\n",
       "      <th>12</th>\n",
       "      <td>Odor_none</td>\n",
       "      <td>-4.766874</td>\n",
       "    </tr>\n",
       "    <tr>\n",
       "      <th>13</th>\n",
       "      <td>Odor_pungent</td>\n",
       "      <td>3.409466</td>\n",
       "    </tr>\n",
       "    <tr>\n",
       "      <th>14</th>\n",
       "      <td>Odor_spicy</td>\n",
       "      <td>3.450991</td>\n",
       "    </tr>\n",
       "    <tr>\n",
       "      <th>15</th>\n",
       "      <td>Veil_color_brown</td>\n",
       "      <td>-1.735663</td>\n",
       "    </tr>\n",
       "    <tr>\n",
       "      <th>16</th>\n",
       "      <td>Veil_color_orange</td>\n",
       "      <td>-1.735663</td>\n",
       "    </tr>\n",
       "    <tr>\n",
       "      <th>17</th>\n",
       "      <td>Veil_color_white</td>\n",
       "      <td>0.791680</td>\n",
       "    </tr>\n",
       "    <tr>\n",
       "      <th>18</th>\n",
       "      <td>Veil_color_yellow</td>\n",
       "      <td>2.679026</td>\n",
       "    </tr>\n",
       "    <tr>\n",
       "      <th>19</th>\n",
       "      <td>Habitat_grasses</td>\n",
       "      <td>-0.534468</td>\n",
       "    </tr>\n",
       "    <tr>\n",
       "      <th>20</th>\n",
       "      <td>Habitat_leaves</td>\n",
       "      <td>0.769737</td>\n",
       "    </tr>\n",
       "    <tr>\n",
       "      <th>21</th>\n",
       "      <td>Habitat_meadows</td>\n",
       "      <td>2.322441</td>\n",
       "    </tr>\n",
       "    <tr>\n",
       "      <th>22</th>\n",
       "      <td>Habitat_paths</td>\n",
       "      <td>0.211649</td>\n",
       "    </tr>\n",
       "    <tr>\n",
       "      <th>23</th>\n",
       "      <td>Habitat_urban</td>\n",
       "      <td>-0.416133</td>\n",
       "    </tr>\n",
       "    <tr>\n",
       "      <th>24</th>\n",
       "      <td>Habitat_waste</td>\n",
       "      <td>-1.850069</td>\n",
       "    </tr>\n",
       "    <tr>\n",
       "      <th>25</th>\n",
       "      <td>Habitat_woods</td>\n",
       "      <td>-0.503778</td>\n",
       "    </tr>\n",
       "  </tbody>\n",
       "</table>\n",
       "</div>"
      ],
      "text/plain": [
       "            Variables  Coefficients\n",
       "0      Cap_shape_bell      1.009905\n",
       "1   Cap_shape_conical      1.425851\n",
       "2    Cap_shape_convex     -1.304892\n",
       "3      Cap_shape_flat     -0.503339\n",
       "4   Cap_shape_knobbed      0.186752\n",
       "5    Cap_shape_sunken     -0.814897\n",
       "6         Odor_almond     -7.865484\n",
       "7          Odor_anise     -7.865484\n",
       "8       Odor_creosote      3.455126\n",
       "9          Odor_fishy      3.450991\n",
       "10          Odor_foul      4.931114\n",
       "11         Odor_musty      1.799534\n",
       "12          Odor_none     -4.766874\n",
       "13       Odor_pungent      3.409466\n",
       "14         Odor_spicy      3.450991\n",
       "15   Veil_color_brown     -1.735663\n",
       "16  Veil_color_orange     -1.735663\n",
       "17   Veil_color_white      0.791680\n",
       "18  Veil_color_yellow      2.679026\n",
       "19    Habitat_grasses     -0.534468\n",
       "20     Habitat_leaves      0.769737\n",
       "21    Habitat_meadows      2.322441\n",
       "22      Habitat_paths      0.211649\n",
       "23      Habitat_urban     -0.416133\n",
       "24      Habitat_waste     -1.850069\n",
       "25      Habitat_woods     -0.503778"
      ]
     },
     "execution_count": 68,
     "metadata": {},
     "output_type": "execute_result"
    }
   ],
   "source": [
    "# Examine the model coefficients for the explanatory variables\n",
    "model_coefs=pd.DataFrame(zip(x.columns, np.transpose(model.coef_)),columns=['Variables','Coefficients'])\n",
    "model_coefs['Coefficients']=model_coefs['Coefficients'].astype(float)\n",
    "model_coefs"
   ]
  },
  {
   "cell_type": "code",
   "execution_count": 69,
   "metadata": {
    "scrolled": true
   },
   "outputs": [
    {
     "data": {
      "text/plain": [
       "<matplotlib.axes._subplots.AxesSubplot at 0x23b97f25940>"
      ]
     },
     "execution_count": 69,
     "metadata": {},
     "output_type": "execute_result"
    },
    {
     "data": {
      "image/png": "[encoded data removed]",
      "text/plain": [
       "<Figure size 648x360 with 1 Axes>"
      ]
     },
     "metadata": {
      "needs_background": "light"
     },
     "output_type": "display_data"
    }
   ],
   "source": [
    "# Use bar plot to visualize the above results\n",
    "model_coefs.plot(kind='barh', figsize=(9, 5),color=\"purple\",x='Variables', y='Coefficients')"
   ]
  },
  {
   "cell_type": "markdown",
   "metadata": {},
   "source": [
    "## Model Evaluation Using a Validation Set"
   ]
  },
  {
   "cell_type": "markdown",
   "metadata": {},
   "source": [
    "**Spliting the dataset into [training and testing set](https://scikit-learn.org/stable/modules/generated/sklearn.model_selection.train_test_split.html)**<br />\n",
    "We have testing and training values in the same dataset. To perform the evaluation, we will have to split the dataset into 70:30 ratio and see whether it produce the same results."
   ]
  },
  {
   "cell_type": "code",
   "execution_count": 76,
   "metadata": {},
   "outputs": [],
   "source": [
    "# To split the data set into a training set and a testing set into 70:30 ratio\n",
    "x_train, x_test, y_train, y_test = train_test_split(x, y, test_size=0.3)"
   ]
  },
  {
   "cell_type": "code",
   "execution_count": 77,
   "metadata": {},
   "outputs": [
    {
     "data": {
      "text/plain": [
       "LogisticRegression()"
      ]
     },
     "execution_count": 77,
     "metadata": {},
     "output_type": "execute_result"
    }
   ],
   "source": [
    "# Use a logistic regression algorithm, and fit with X and y\n",
    "model_s = LogisticRegression()\n",
    "model_s = model_s.fit(x_train,y_train)\n",
    "model_s"
   ]
  },
  {
   "cell_type": "markdown",
   "metadata": {},
   "source": [
    "After splitting the dataset into testing and training sets, we will compare whether the two models are giving us the same results or not.\n",
    "\n",
    "#### Training Model"
   ]
  },
  {
   "cell_type": "code",
   "execution_count": 81,
   "metadata": {},
   "outputs": [
    {
     "data": {
      "text/plain": [
       "0.9887442842068238"
      ]
     },
     "execution_count": 81,
     "metadata": {},
     "output_type": "execute_result"
    }
   ],
   "source": [
    "# Calculate the accuracy of the model relative to the training data set\n",
    "model_s.score(x_train,y_train)"
   ]
  },
  {
   "cell_type": "markdown",
   "metadata": {},
   "source": [
    "#### Testing Model"
   ]
  },
  {
   "cell_type": "code",
   "execution_count": 82,
   "metadata": {},
   "outputs": [
    {
     "data": {
      "text/plain": [
       "0.9868744872846595"
      ]
     },
     "execution_count": 82,
     "metadata": {},
     "output_type": "execute_result"
    }
   ],
   "source": [
    "# Calculate the accuracy of the model relative to the testing data set\n",
    "model_s.score(x_test,y_test)"
   ]
  },
  {
   "cell_type": "markdown",
   "metadata": {},
   "source": [
    "Both of the dataset produced the same results at 98% accuracy, and there is a slight variation obsearved in regards to the accuracy between the two data sets. Also, we experienced the same accuracy when we use training and predicting on the same data at 98%. Therefore, we can use this model to predict whether a mushroom is edible or poisonous."
   ]
  },
  {
   "cell_type": "markdown",
   "metadata": {},
   "source": [
    "#### Examining the model coefficients for the explanatory variables"
   ]
  },
  {
   "cell_type": "code",
   "execution_count": 83,
   "metadata": {},
   "outputs": [
    {
     "data": {
      "text/html": [
       "<div>\n",
       "<style scoped>\n",
       "    .dataframe tbody tr th:only-of-type {\n",
       "        vertical-align: middle;\n",
       "    }\n",
       "\n",
       "    .dataframe tbody tr th {\n",
       "        vertical-align: top;\n",
       "    }\n",
       "\n",
       "    .dataframe thead th {\n",
       "        text-align: right;\n",
       "    }\n",
       "</style>\n",
       "<table border=\"1\" class=\"dataframe\">\n",
       "  <thead>\n",
       "    <tr style=\"text-align: right;\">\n",
       "      <th></th>\n",
       "      <th>Variables</th>\n",
       "      <th>Coefficients</th>\n",
       "    </tr>\n",
       "  </thead>\n",
       "  <tbody>\n",
       "    <tr>\n",
       "      <th>0</th>\n",
       "      <td>Cap_shape_bell</td>\n",
       "      <td>0.719882</td>\n",
       "    </tr>\n",
       "    <tr>\n",
       "      <th>1</th>\n",
       "      <td>Cap_shape_conical</td>\n",
       "      <td>1.024249</td>\n",
       "    </tr>\n",
       "    <tr>\n",
       "      <th>2</th>\n",
       "      <td>Cap_shape_convex</td>\n",
       "      <td>-1.035569</td>\n",
       "    </tr>\n",
       "    <tr>\n",
       "      <th>3</th>\n",
       "      <td>Cap_shape_flat</td>\n",
       "      <td>-0.360887</td>\n",
       "    </tr>\n",
       "    <tr>\n",
       "      <th>4</th>\n",
       "      <td>Cap_shape_knobbed</td>\n",
       "      <td>0.322788</td>\n",
       "    </tr>\n",
       "    <tr>\n",
       "      <th>5</th>\n",
       "      <td>Cap_shape_sunken</td>\n",
       "      <td>-0.671234</td>\n",
       "    </tr>\n",
       "    <tr>\n",
       "      <th>6</th>\n",
       "      <td>Odor_almond</td>\n",
       "      <td>-7.004766</td>\n",
       "    </tr>\n",
       "    <tr>\n",
       "      <th>7</th>\n",
       "      <td>Odor_anise</td>\n",
       "      <td>-6.949202</td>\n",
       "    </tr>\n",
       "    <tr>\n",
       "      <th>8</th>\n",
       "      <td>Odor_creosote</td>\n",
       "      <td>3.165302</td>\n",
       "    </tr>\n",
       "    <tr>\n",
       "      <th>9</th>\n",
       "      <td>Odor_fishy</td>\n",
       "      <td>3.159937</td>\n",
       "    </tr>\n",
       "    <tr>\n",
       "      <th>10</th>\n",
       "      <td>Odor_foul</td>\n",
       "      <td>4.625840</td>\n",
       "    </tr>\n",
       "    <tr>\n",
       "      <th>11</th>\n",
       "      <td>Odor_musty</td>\n",
       "      <td>1.361349</td>\n",
       "    </tr>\n",
       "    <tr>\n",
       "      <th>12</th>\n",
       "      <td>Odor_none</td>\n",
       "      <td>-4.635708</td>\n",
       "    </tr>\n",
       "    <tr>\n",
       "      <th>13</th>\n",
       "      <td>Odor_pungent</td>\n",
       "      <td>3.072738</td>\n",
       "    </tr>\n",
       "    <tr>\n",
       "      <th>14</th>\n",
       "      <td>Odor_spicy</td>\n",
       "      <td>3.203739</td>\n",
       "    </tr>\n",
       "    <tr>\n",
       "      <th>15</th>\n",
       "      <td>Veil_color_brown</td>\n",
       "      <td>-1.381282</td>\n",
       "    </tr>\n",
       "    <tr>\n",
       "      <th>16</th>\n",
       "      <td>Veil_color_orange</td>\n",
       "      <td>-1.402846</td>\n",
       "    </tr>\n",
       "    <tr>\n",
       "      <th>17</th>\n",
       "      <td>Veil_color_white</td>\n",
       "      <td>0.629755</td>\n",
       "    </tr>\n",
       "    <tr>\n",
       "      <th>18</th>\n",
       "      <td>Veil_color_yellow</td>\n",
       "      <td>2.153602</td>\n",
       "    </tr>\n",
       "    <tr>\n",
       "      <th>19</th>\n",
       "      <td>Habitat_grasses</td>\n",
       "      <td>-0.525039</td>\n",
       "    </tr>\n",
       "    <tr>\n",
       "      <th>20</th>\n",
       "      <td>Habitat_leaves</td>\n",
       "      <td>0.647786</td>\n",
       "    </tr>\n",
       "    <tr>\n",
       "      <th>21</th>\n",
       "      <td>Habitat_meadows</td>\n",
       "      <td>2.165306</td>\n",
       "    </tr>\n",
       "    <tr>\n",
       "      <th>22</th>\n",
       "      <td>Habitat_paths</td>\n",
       "      <td>0.260880</td>\n",
       "    </tr>\n",
       "    <tr>\n",
       "      <th>23</th>\n",
       "      <td>Habitat_urban</td>\n",
       "      <td>-0.392879</td>\n",
       "    </tr>\n",
       "    <tr>\n",
       "      <th>24</th>\n",
       "      <td>Habitat_waste</td>\n",
       "      <td>-1.637361</td>\n",
       "    </tr>\n",
       "    <tr>\n",
       "      <th>25</th>\n",
       "      <td>Habitat_woods</td>\n",
       "      <td>-0.519463</td>\n",
       "    </tr>\n",
       "  </tbody>\n",
       "</table>\n",
       "</div>"
      ],
      "text/plain": [
       "            Variables  Coefficients\n",
       "0      Cap_shape_bell      0.719882\n",
       "1   Cap_shape_conical      1.024249\n",
       "2    Cap_shape_convex     -1.035569\n",
       "3      Cap_shape_flat     -0.360887\n",
       "4   Cap_shape_knobbed      0.322788\n",
       "5    Cap_shape_sunken     -0.671234\n",
       "6         Odor_almond     -7.004766\n",
       "7          Odor_anise     -6.949202\n",
       "8       Odor_creosote      3.165302\n",
       "9          Odor_fishy      3.159937\n",
       "10          Odor_foul      4.625840\n",
       "11         Odor_musty      1.361349\n",
       "12          Odor_none     -4.635708\n",
       "13       Odor_pungent      3.072738\n",
       "14         Odor_spicy      3.203739\n",
       "15   Veil_color_brown     -1.381282\n",
       "16  Veil_color_orange     -1.402846\n",
       "17   Veil_color_white      0.629755\n",
       "18  Veil_color_yellow      2.153602\n",
       "19    Habitat_grasses     -0.525039\n",
       "20     Habitat_leaves      0.647786\n",
       "21    Habitat_meadows      2.165306\n",
       "22      Habitat_paths      0.260880\n",
       "23      Habitat_urban     -0.392879\n",
       "24      Habitat_waste     -1.637361\n",
       "25      Habitat_woods     -0.519463"
      ]
     },
     "execution_count": 83,
     "metadata": {},
     "output_type": "execute_result"
    }
   ],
   "source": [
    "# Examine the model coefficients for the explanatory variables\n",
    "model_coefs_s =pd.DataFrame(zip(x.columns, np.transpose(model_s.coef_)),columns=['Variables','Coefficients'])\n",
    "model_coefs_s['Coefficients']=model_coefs_s['Coefficients'].astype(float)\n",
    "model_coefs_s"
   ]
  },
  {
   "cell_type": "code",
   "execution_count": 84,
   "metadata": {},
   "outputs": [
    {
     "data": {
      "text/plain": [
       "<matplotlib.axes._subplots.AxesSubplot at 0x23b96b229a0>"
      ]
     },
     "execution_count": 84,
     "metadata": {},
     "output_type": "execute_result"
    },
    {
     "data": {
      "image/png": "[encoded data removed]",
      "text/plain": [
       "<Figure size 648x360 with 1 Axes>"
      ]
     },
     "metadata": {
      "needs_background": "light"
     },
     "output_type": "display_data"
    }
   ],
   "source": [
    "# Use bar plot to visualize the above results\n",
    "model_coefs_s.plot(kind='barh', figsize=(9, 5),color=\"purple\",x='Variables', y='Coefficients')"
   ]
  },
  {
   "cell_type": "markdown",
   "metadata": {},
   "source": [
    "### Predictions\n",
    "\n",
    "With our model ready, we can now run the predictions."
   ]
  },
  {
   "cell_type": "code",
   "execution_count": 85,
   "metadata": {},
   "outputs": [
    {
     "data": {
      "text/plain": [
       "array([0, 1, 0, 0, 1, 0, 0, 1, 1, 1], dtype=int64)"
      ]
     },
     "execution_count": 85,
     "metadata": {},
     "output_type": "execute_result"
    }
   ],
   "source": [
    "# Generate predicted results for the testing data based on the new model\n",
    "predict_test = model_s.predict(x_test)\n",
    "predict_test[:10]"
   ]
  },
  {
   "cell_type": "code",
   "execution_count": 86,
   "metadata": {
    "scrolled": true
   },
   "outputs": [
    {
     "data": {
      "text/plain": [
       "2743    0\n",
       "6146    1\n",
       "1943    0\n",
       "1548    0\n",
       "7224    1\n",
       "3588    0\n",
       "140     0\n",
       "4893    1\n",
       "5844    1\n",
       "4546    1\n",
       "Name: Class, dtype: int64"
      ]
     },
     "execution_count": 86,
     "metadata": {},
     "output_type": "execute_result"
    }
   ],
   "source": [
    "# To check the similarity with x test\n",
    "y_test[:10]"
   ]
  },
  {
   "cell_type": "markdown",
   "metadata": {},
   "source": [
    "### Conclusion\n",
    "\n",
    "- Mushrooms having **no odor, or have anise or almond odor**, are most likely to be edible. On the other hand, those with **foul, pungent, and creosote odor** are more likely to be poisonous.\n",
    "- **Convex-shaped** mushrooms are more likely to be edible, whereas **conical and bell-shaped** mushrooms are more likely to be poisonous.\n",
    "- **Yellow and white mushrooms** are more likely to be poisonous, whereas **orange and brown** are most likely to be edible.\n",
    "- Mushrooms found in the **woods, waste, grasses, or urban** areas are more likely to be edible, and those found in **meadows, paths, and leaves** are more likely to be poisonous."
   ]
  },
  {
   "cell_type": "markdown",
   "metadata": {},
   "source": [
    "# Summary\n",
    "\n",
    "When comparing our predictive model with the preliminary analysis (EDA), we can see a lot of similarities between the two results. Additionally, our predictive model helped gain a clear picture in the areas where EDA wasn't very helpful. For example, when we compared class with cap shape, veil color, and habitat, we were not able to get a clear distinction between which could be considered edible and which ones not. The predictive model was able to overcome this limitation by giving us clear results.\n",
    "\n",
    "### Additional References\n",
    "\n",
    "- Module 12 Lecture Notes - 'Modeling + Machine Learning with Python Libraries'\n",
    "- Module 4 Lecture Notes - 'Pandas Series & Data Frames'\n",
    "- Module 6 Lecture Notes - 'Creating Visualizations in Python with Matplotlib & Seaborn'\n",
    "- Jupyter Notebook Viewer. Nbviewer.jupyter.org, from https://nbviewer.jupyter.org/gist/justmarkham/6d5c061ca5aee67c4316471f8c2ae976.\n",
    "\n",
    "\n",
    "\n"
   ]
  },
  {
   "cell_type": "code",
   "execution_count": null,
   "metadata": {},
   "outputs": [],
   "source": []
  }
 ],
 "metadata": {
  "kernelspec": {
   "display_name": "Python 3",
   "language": "python",
   "name": "python3"
  },
  "language_info": {
   "codemirror_mode": {
    "name": "ipython",
    "version": 3
   },
   "file_extension": ".py",
   "mimetype": "text/x-python",
   "name": "python",
   "nbconvert_exporter": "python",
   "pygments_lexer": "ipython3",
   "version": "3.8.5"
  }
 },
 "nbformat": 4,
 "nbformat_minor": 4
}
